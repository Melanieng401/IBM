{
 "cells": [
  {
   "cell_type": "markdown",
   "id": "5a509d7b-2f97-4762-ad68-751333a611ea",
   "metadata": {},
   "source": [
    "# Data Science Tools and Ecosystem"
   ]
  },
  {
   "cell_type": "markdown",
   "id": "adc524d7-d716-48a7-95be-df4d25923d16",
   "metadata": {},
   "source": [
    "### In this notebook, Data Science Tools and Ecosystem are summarized."
   ]
  },
  {
   "cell_type": "markdown",
   "id": "576b3293-1e76-4be1-b540-87bea1f75a72",
   "metadata": {},
   "source": [
    "### Some of the popular languages that Data Scientists use are:\n",
    "\n",
    "1. Python\n",
    "2. R\n",
    "3. C++"
   ]
  },
  {
   "cell_type": "markdown",
   "id": "d542ea70-207a-402f-b618-a22ca8e9fac7",
   "metadata": {},
   "source": [
    "### Some of the commonly used libraries used by Data Scientists include:\n",
    "\n",
    "1. matplolib\n",
    "2. numpy\n",
    "3. scipy"
   ]
  },
  {
   "cell_type": "markdown",
   "id": "b54d8672-db32-42db-94fb-c87295ca947a",
   "metadata": {},
   "source": [
    "Data Science Tools|\n",
    "------------------|\n",
    "Jupyter Notebook|\n",
    "JupyterLab|\n",
    "R-Studio|\n"
   ]
  },
  {
   "cell_type": "markdown",
   "id": "6f9f625d-0d8c-4c76-be90-d82e6e213d4d",
   "metadata": {},
   "source": [
    "### Below are a few examples of evaluating arithmetic expressions in Python\n"
   ]
  },
  {
   "cell_type": "code",
   "execution_count": 1,
   "id": "d7f51131-6a52-428c-98db-913ef7fff57a",
   "metadata": {
    "tags": []
   },
   "outputs": [
    {
     "data": {
      "text/plain": [
       "17"
      ]
     },
     "execution_count": 1,
     "metadata": {},
     "output_type": "execute_result"
    }
   ],
   "source": [
    "# This is a simple arithmetic expression to multiply then add integers \n",
    "(3*4)+5\n"
   ]
  },
  {
   "cell_type": "code",
   "execution_count": 4,
   "id": "4abbf0e4-0244-44be-a844-e570121cc309",
   "metadata": {
    "tags": []
   },
   "outputs": [
    {
     "name": "stdout",
     "output_type": "stream",
     "text": [
      "3.3333333333333335\n"
     ]
    }
   ],
   "source": [
    "# This will convert 200 minutes to hours by dividing by 60\n",
    "\n",
    "def hours(minutes):\n",
    "    x = minutes / 60\n",
    "    return x\n",
    "\n",
    "minutes = 200\n",
    "ans = hours(minutes)\n",
    "print(ans)"
   ]
  },
  {
   "cell_type": "markdown",
   "id": "d533960f-ac0b-463d-badc-18fe162c33a2",
   "metadata": {},
   "source": [
    "# *Objectives:*\n",
    "- R\n",
    "- Python\n",
    "- C++\n",
    "- Jupyter notebook"
   ]
  },
  {
   "cell_type": "markdown",
   "id": "7d1e5aa2-fa6b-450e-8ea1-3a39e5d81b32",
   "metadata": {},
   "source": [
    "## Author\n",
    "Melanie\n"
   ]
  },
  {
   "cell_type": "code",
   "execution_count": null,
   "id": "4b7e2177-60cc-4747-8879-2348564c028b",
   "metadata": {},
   "outputs": [],
   "source": []
  }
 ],
 "metadata": {
  "kernelspec": {
   "display_name": "Python",
   "language": "python",
   "name": "conda-env-python-py"
  },
  "language_info": {
   "codemirror_mode": {
    "name": "ipython",
    "version": 3
   },
   "file_extension": ".py",
   "mimetype": "text/x-python",
   "name": "python",
   "nbconvert_exporter": "python",
   "pygments_lexer": "ipython3",
   "version": "3.7.12"
  }
 },
 "nbformat": 4,
 "nbformat_minor": 5
}
